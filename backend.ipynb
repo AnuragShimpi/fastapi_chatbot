{
 "cells": [
  {
   "cell_type": "code",
   "execution_count": 3,
   "metadata": {},
   "outputs": [],
   "source": [
    "import dotenv\n",
    "import cohere\n",
    "import os\n"
   ]
  },
  {
   "cell_type": "code",
   "execution_count": 4,
   "metadata": {},
   "outputs": [],
   "source": [
    "from dotenv import load_dotenv, find_dotenv\n",
    "_ = load_dotenv(find_dotenv()) # read local .env file\n",
    "\n",
    "cohere.api_key  = os.environ['cohere_api_key']"
   ]
  },
  {
   "cell_type": "code",
   "execution_count": 5,
   "metadata": {},
   "outputs": [],
   "source": [
    "from langchain_cohere import ChatCohere, create_cohere_react_agent\n",
    "from langchain_core.prompts import ChatPromptTemplate\n",
    "from langchain.agents import AgentExecutor\n",
    "from langchain_core.messages import HumanMessage\n",
    "from langchain.schema import HumanMessage, AIMessage, ChatMessage, FunctionMessage\n",
    "\n",
    "from typing import Optional, Type\n",
    "import json\n",
    "\n",
    "\n",
    "from langchain.agents import AgentType\n",
    "from langchain.agents import initialize_agent, Tool\n",
    "from langchain.tools import BaseTool, format_tool_to_openai_function\n",
    "from pydantic import BaseModel, Field\n",
    "import os\n",
    "from langchain.agents import AgentType, initialize_agent, load_tools\n",
    "from langchain_community.utilities import SerpAPIWrapper\n",
    "\n",
    "\n",
    "def check_weather(query: str):\n",
    "\n",
    "    #api_cohere_key = 'BQtxZX9TZtECoTzDFkUZCwU4wu5WozhvrPtaBaxM'\n",
    "    #api_weather = \"6a06eace0b866351ea8fdd0401993aae\"\n",
    "\n",
    "    os.environ['COHERE_API_KEY'] = 'PKYJ9mWpadwNW8Oj44ftpOr6rKzBkzW6eT2iZhaC'\n",
    "    os.environ[\"OPENWEATHERMAP_API_KEY\"] = \"6a06eace0b866351ea8fdd0401993aae\"\n",
    "\n",
    "\n",
    "    llm = ChatCohere(model = 'command-r-plus' , temperature=0)\n",
    "    tools = load_tools(['openweathermap-api'], llm)\n",
    "    agent_chain = initialize_agent(\n",
    "        tools=tools, llm=llm, agent=AgentType.ZERO_SHOT_REACT_DESCRIPTION, verbose=True\n",
    "    )\n",
    "    result = agent_chain.run(\n",
    "        query\n",
    "    )\n",
    "\n",
    "    return result\n",
    "\n",
    "\n",
    "def search_query(query : str):\n",
    "\n",
    "    os.environ['COHERE_API_KEY'] = 'BQtxZX9TZtECoTzDFkUZCwU4wu5WozhvrPtaBaxM'\n",
    "    os.environ['SERPAPI_API_KEY'] = 'df69a05dca9849165cb10df886f7a238d110ae22c97d2fb582390e78e2b57f1f'\n",
    "\n",
    "    custom_prompt = (\n",
    "    \"You are a knowledgeable assistant. When asked about any topic, provide a detailed and comprehensive response. \"\n",
    "    \"Include background information, key points, significant achievements, relevant current events, and any controversies. \"\n",
    "    \"Ensure your answer is well-rounded and informative.\"\n",
    "    )\n",
    "\n",
    "    llm = ChatCohere(model = 'command-r-plus' , temperature=0)\n",
    "    tools = load_tools([\"serpapi\"] , llm)\n",
    "\n",
    "    agent_chain = initialize_agent(\n",
    "    tools=tools,\n",
    "    llm=llm,\n",
    "    agent=AgentType.ZERO_SHOT_REACT_DESCRIPTION ,\n",
    "    verbose=True,\n",
    "    prompt=custom_prompt\n",
    "    )\n",
    "    \n",
    "    result = agent_chain.run(\n",
    "        query\n",
    "    )\n",
    "\n",
    "    return result"
   ]
  },
  {
   "cell_type": "code",
   "execution_count": 6,
   "metadata": {},
   "outputs": [
    {
     "name": "stderr",
     "output_type": "stream",
     "text": [
      "C:\\Users\\dell\\AppData\\Local\\Packages\\PythonSoftwareFoundation.Python.3.10_qbz5n2kfra8p0\\LocalCache\\local-packages\\Python310\\site-packages\\langchain_core\\_api\\deprecation.py:119: LangChainDeprecationWarning: The function `initialize_agent` was deprecated in LangChain 0.1.0 and will be removed in 0.3.0. Use Use new agent constructor methods like create_react_agent, create_json_agent, create_structured_chat_agent, etc. instead.\n",
      "  warn_deprecated(\n",
      "C:\\Users\\dell\\AppData\\Local\\Packages\\PythonSoftwareFoundation.Python.3.10_qbz5n2kfra8p0\\LocalCache\\local-packages\\Python310\\site-packages\\langchain_core\\_api\\deprecation.py:119: LangChainDeprecationWarning: The method `Chain.run` was deprecated in langchain 0.1.0 and will be removed in 0.3.0. Use invoke instead.\n",
      "  warn_deprecated(\n"
     ]
    },
    {
     "name": "stdout",
     "output_type": "stream",
     "text": [
      "\n",
      "\n",
      "\u001b[1m> Entering new AgentExecutor chain...\u001b[0m\n",
      "\u001b[32;1m\u001b[1;3mThought: To answer this question, I will search for \"what is GDP\".\n",
      "Action: Search\n",
      "Action Input: what is GDP\n",
      "Observation:\u001b[0m\n",
      "Observation: \u001b[36;1m\u001b[1;3m['Measuring GDP. GDP measures the monetary value of final goods and services—that is, those that are bought by the final user—produced in a country in ...', 'Another way to measure GDP is as the sum of four factors: consumer spending, government spending, net exports, and total investment. In the United States, GDP ...', 'GDP is the way we measure the U.S. economy and its growth. GDP = the total market value of the final goods and services produced within the United States in ...', \"Gross domestic product tracks the health of a country's economy. · It represents the value of all goods and services produced over a specific time period within ...\", \"Gross domestic product (GDP) is an important tool for measuring how a country's economy is doing. It lets governments work out how much they ...\", 'The nation\\'s gross domestic product totals trillions of dollars. Most often, the number you\\'ll hear people refer to as \"GDP\" is a percentage.', 'In very simple terms, GDP measures how much is produced, how much is spent and how much is earned in the economy over a given period and, also, ...', 'Gross Domestic Product (GDP) is a monetary measure of the market value of all the final goods and services produced and rendered in a specific time period ...', 'Gross domestic product (GDP) is the standard measure of the value added created through the production of goods and services in a country during a certain ...']\u001b[0m\n",
      "Thought:\u001b[32;1m\u001b[1;3mI now know the final answer.\n",
      "\n",
      "Final Answer: GDP stands for Gross Domestic Product and is a measure of the market value of all the final goods and services produced in a country during a specific time period, usually a year. It is used to gauge the health and growth of a country's economy.\u001b[0m\n",
      "\n",
      "\u001b[1m> Finished chain.\u001b[0m\n"
     ]
    },
    {
     "data": {
      "text/plain": [
       "\"GDP stands for Gross Domestic Product and is a measure of the market value of all the final goods and services produced in a country during a specific time period, usually a year. It is used to gauge the health and growth of a country's economy.\""
      ]
     },
     "execution_count": 6,
     "metadata": {},
     "output_type": "execute_result"
    }
   ],
   "source": [
    "search_query(\"what is GDP?\")"
   ]
  },
  {
   "cell_type": "code",
   "execution_count": 22,
   "metadata": {},
   "outputs": [],
   "source": [
    "from langchain_community.utilities import GoogleSerperAPIWrapper"
   ]
  },
  {
   "cell_type": "code",
   "execution_count": 9,
   "metadata": {},
   "outputs": [],
   "source": [
    "def search_query(query_request: str):\n",
    "    query = query_request\n",
    "\n",
    "    os.environ['COHERE_API_KEY'] = 'PKYJ9mWpadwNW8Oj44ftpOr6rKzBkzW6eT2iZhaC'\n",
    "    os.environ['SERP_API_KEY'] = '73ce724cbce1469407bd4191a7b7c54aba5366019305d9f0f05f61791404f023'\n",
    "\n",
    "    custom_prompt = (\n",
    "    \"You are a knowledgeable assistant. When asked about any topic, provide a detailed and comprehensive response. \"\n",
    "    \"Include background information, key points, significant achievements, relevant current events, and any controversies. \"\n",
    "    \"Ensure your answer is well-rounded and informative.\"\n",
    "    )\n",
    "\n",
    "    llm = ChatCohere(model = 'command-r-plus' , temperature=0)\n",
    "    tools = load_tools([\"serpapi\"] , llm)\n",
    "\n",
    "    agent_chain = initialize_agent(\n",
    "    tools=tools,\n",
    "    llm=llm,\n",
    "    agent=AgentType.ZERO_SHOT_REACT_DESCRIPTION ,\n",
    "    verbose=True,\n",
    "    prompt=custom_prompt\n",
    "    )\n",
    "   \n",
    "    result = agent_chain.run(query)\n",
    "    return {\"result\": result}"
   ]
  },
  {
   "cell_type": "code",
   "execution_count": 10,
   "metadata": {},
   "outputs": [
    {
     "name": "stdout",
     "output_type": "stream",
     "text": [
      "\n",
      "\n",
      "\u001b[1m> Entering new AgentExecutor chain...\u001b[0m\n",
      "\u001b[32;1m\u001b[1;3mThought: To answer this question, I will search for \"who is barack obama\".\n",
      "Action: Search\n",
      "Action Input: who is barack obama\n",
      "Observation:\u001b[0m\n",
      "Observation: \u001b[36;1m\u001b[1;3m['Barack Obama served as the 44th President of the United States. His story is the American story — values from the heartland, a middle-class upbringing in a ...', 'Obama was elected the first African-American president of the Harvard Law Review, prior to graduating magna cum laude in 1991. He returned to Chicago in 1992 ...', 'Barack Obama (born August 4, 1961, Honolulu, Hawaii, U.S.) is the 44th president of the United States (2009–17) and the first African ...', \"Vice President, Members of Congress, my fellow Americans: Tonight marks the eighth year that I've come here to report on the State of the Union.\", 'Former U.S. President Barack Obama delivered a keynote address about how information is created and consumed, and the threat that disinformation ...', 'Obama worked as a community organizer in Chicago, where he met and married Michelle LaVaughn Robinson in 1992. Their two daughters, Malia Ann and Natasha (Sasha) ...', 'Barack Obama is the 44th President of the United States. His story is the American story -- values from the heartland, a middle-class upbringing in a strong ...', 'Barack Obama. 56129127 likes · 347203 talking about this. Dad, husband, former President, citizen.', \"A Democrat, Obama became the first African American to run for president on a major political party's ticket. He then went on to become the first African ...\", 'OBAMA OBSERVATIONS. President Barack Obama speaks during a ceremony at the Pentagon Memorial, Sept. 11, 2010, to mark the ninth anniversary of the Sept.']\u001b[0m\n",
      "Thought:\u001b[32;1m\u001b[1;3mThought: I now know that Barack Obama was the 44th President of the United States and the first African-American to hold that office. He served from 2009 to 2017. Before becoming president, he worked as a community organizer in Chicago and graduated from Harvard Law School.\n",
      "Final Answer: Barack Obama was the 44th President of the United States and the first African-American to hold that office. He served from 2009 to 2017. Before his presidency, he worked as a community organizer in Chicago and graduated from Harvard Law School, where he was elected the first African-American president of the Harvard Law Review.\u001b[0m\n",
      "\n",
      "\u001b[1m> Finished chain.\u001b[0m\n"
     ]
    },
    {
     "data": {
      "text/plain": [
       "{'result': 'Barack Obama was the 44th President of the United States and the first African-American to hold that office. He served from 2009 to 2017. Before his presidency, he worked as a community organizer in Chicago and graduated from Harvard Law School, where he was elected the first African-American president of the Harvard Law Review.'}"
      ]
     },
     "execution_count": 10,
     "metadata": {},
     "output_type": "execute_result"
    }
   ],
   "source": [
    "search_query(\"who is barak obama?\")"
   ]
  },
  {
   "cell_type": "code",
   "execution_count": null,
   "metadata": {},
   "outputs": [],
   "source": []
  }
 ],
 "metadata": {
  "kernelspec": {
   "display_name": "Python 3",
   "language": "python",
   "name": "python3"
  },
  "language_info": {
   "codemirror_mode": {
    "name": "ipython",
    "version": 3
   },
   "file_extension": ".py",
   "mimetype": "text/x-python",
   "name": "python",
   "nbconvert_exporter": "python",
   "pygments_lexer": "ipython3",
   "version": "3.10.11"
  }
 },
 "nbformat": 4,
 "nbformat_minor": 2
}
