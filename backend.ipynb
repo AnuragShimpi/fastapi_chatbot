{
 "cells": [
  {
   "cell_type": "code",
   "execution_count": 1,
   "metadata": {},
   "outputs": [],
   "source": [
    "import dotenv\n",
    "import cohere\n",
    "import os\n"
   ]
  },
  {
   "cell_type": "code",
   "execution_count": 2,
   "metadata": {},
   "outputs": [],
   "source": [
    "from dotenv import load_dotenv, find_dotenv\n",
    "_ = load_dotenv(find_dotenv()) # read local .env file\n",
    "\n",
    "cohere.api_key  = os.environ['cohere_api_key']"
   ]
  },
  {
   "cell_type": "code",
   "execution_count": 8,
   "metadata": {},
   "outputs": [],
   "source": [
    "from langchain_cohere import ChatCohere, create_cohere_react_agent\n",
    "from langchain_core.prompts import ChatPromptTemplate\n",
    "from langchain.agents import AgentExecutor\n",
    "from langchain_core.messages import HumanMessage\n",
    "from langchain.schema import HumanMessage, AIMessage, ChatMessage, FunctionMessage\n",
    "\n",
    "from typing import Optional, Type\n",
    "import json\n",
    "\n",
    "\n",
    "from langchain.agents import AgentType\n",
    "from langchain.agents import initialize_agent, Tool\n",
    "from langchain.tools import BaseTool, format_tool_to_openai_function\n",
    "from pydantic import BaseModel, Field\n",
    "import os\n",
    "from langchain.agents import AgentType, initialize_agent, load_tools\n",
    "from langchain_community.utilities import SerpAPIWrapper\n",
    "\n",
    "\n",
    "def check_weather(query: str):\n",
    "\n",
    "\n",
    "    COHERE_API_KEY = os.environ.get('COHERE_API_KEY')\n",
    "    OPENWEATHERMAP_API_KEY = os.environ.get(\"OPENWEATHERMAP_API_KEY\")\n",
    "\n",
    "\n",
    "    llm = ChatCohere(model = 'command-r-plus' , temperature=0)\n",
    "    tools = load_tools(['openweathermap-api'], llm)\n",
    "    agent_chain = initialize_agent(\n",
    "        tools=tools, llm=llm, agent=AgentType.ZERO_SHOT_REACT_DESCRIPTION, verbose=True\n",
    "    )\n",
    "    result = agent_chain.run(\n",
    "        query\n",
    "    )\n",
    "\n",
    "    return result\n",
    "\n",
    "\n",
    "def search_query(query : str):\n",
    "\n",
    "    COHERE_API_KEY = os.environ.get('COHERE_API_KEY')\n",
    "    SERP_API_KEY = os.environ.get(\"SERP_API_KEY\")\n",
    "\n",
    "    custom_prompt = (\n",
    "    \"You are a knowledgeable assistant. When asked about any topic, provide a detailed and comprehensive response. \"\n",
    "    \"Include background information, key points, significant achievements, relevant current events, and any controversies. \"\n",
    "    \"Ensure your answer is well-rounded and informative.\"\n",
    "    )\n",
    "\n",
    "    llm = ChatCohere(model = 'command-r-plus' , temperature=0)\n",
    "    tools = load_tools([\"serpapi\"] , llm)\n",
    "\n",
    "    agent_chain = initialize_agent(\n",
    "    tools=tools,\n",
    "    llm=llm,\n",
    "    agent=AgentType.ZERO_SHOT_REACT_DESCRIPTION ,\n",
    "    verbose=True,\n",
    "    prompt=custom_prompt\n",
    "    )\n",
    "    \n",
    "    result = agent_chain.run(\n",
    "        query\n",
    "    )\n",
    "\n",
    "    return result"
   ]
  },
  {
   "cell_type": "code",
   "execution_count": 9,
   "metadata": {},
   "outputs": [
    {
     "name": "stdout",
     "output_type": "stream",
     "text": [
      "\n",
      "\n",
      "\u001b[1m> Entering new AgentExecutor chain...\u001b[0m\n",
      "\u001b[32;1m\u001b[1;3mThought: To answer this question, I will search for \"what is GDP.\"\n",
      "Action: Search\n",
      "Action Input: what is GDP\n",
      "Observation:\u001b[0m\n",
      "Observation: \u001b[36;1m\u001b[1;3m['Measuring GDP. GDP measures the monetary value of final goods and services—that is, those that are bought by the final user—produced in a country in ...', 'Another way to measure GDP is as the sum of four factors: consumer spending, government spending, net exports, and total investment.', \"Gross domestic product tracks the health of a country's economy. · It represents the value of all goods and services produced over a specific time period within ...\", \"Gross domestic product (GDP) is an important tool for measuring how a country's economy is doing. It lets governments work out how much they ...\", 'GDP is the way we measure the U.S. economy and its growth. GDP = the total market value of the final goods and services produced within the United States in ...', 'In very simple terms, GDP measures how much is produced, how much is spent and how much is earned in the economy over a given period and, also, ...', 'The nation\\'s gross domestic product totals trillions of dollars. Most often, the number you\\'ll hear people refer to as \"GDP\" is a percentage.', 'Gross Domestic Product (GDP) is a monetary measure of the market value of all the final goods and services produced and rendered in a specific time period ...', 'Gross domestic product (GDP) is the standard measure of the value added created through the production of goods and services in a country during a certain ...']\u001b[0m\n",
      "Thought:\u001b[32;1m\u001b[1;3mI now know the final answer.\n",
      "\n",
      "Final Answer: GDP stands for Gross Domestic Product and is a monetary measurement of the market value of all goods and services produced in a country during a specific time period. It is used to track the health and growth of a country's economy.\u001b[0m\n",
      "\n",
      "\u001b[1m> Finished chain.\u001b[0m\n"
     ]
    },
    {
     "data": {
      "text/plain": [
       "\"GDP stands for Gross Domestic Product and is a monetary measurement of the market value of all goods and services produced in a country during a specific time period. It is used to track the health and growth of a country's economy.\""
      ]
     },
     "execution_count": 9,
     "metadata": {},
     "output_type": "execute_result"
    }
   ],
   "source": [
    "search_query(\"what is GDP?\")"
   ]
  },
  {
   "cell_type": "code",
   "execution_count": 12,
   "metadata": {},
   "outputs": [],
   "source": [
    "from langchain_community.utilities import GoogleSerperAPIWrapper"
   ]
  },
  {
   "cell_type": "code",
   "execution_count": 13,
   "metadata": {},
   "outputs": [],
   "source": [
    "def search_query(query_request: str):\n",
    "    query = query_request\n",
    "\n",
    "    COHERE_API_KEY = os.environ.get('COHERE_API_KEY')\n",
    "    SERP_API_KEY = os.environ.get(\"SERP_API_KEY\")\n",
    "\n",
    "    custom_prompt = (\n",
    "    \"You are a knowledgeable assistant. When asked about any topic, provide a detailed and comprehensive response. \"\n",
    "    \"Include background information, key points, significant achievements, relevant current events, and any controversies. \"\n",
    "    \"Ensure your answer is well-rounded and informative.\"\n",
    "    )\n",
    "\n",
    "    llm = ChatCohere(model = 'command-r-plus' , temperature=0)\n",
    "    tools = load_tools([\"serpapi\"] , llm)\n",
    "\n",
    "    agent_chain = initialize_agent(\n",
    "    tools=tools,\n",
    "    llm=llm,\n",
    "    agent=AgentType.ZERO_SHOT_REACT_DESCRIPTION ,\n",
    "    verbose=True,\n",
    "    prompt=custom_prompt\n",
    "    )\n",
    "   \n",
    "    result = agent_chain.run(query)\n",
    "    return {\"result\": result}"
   ]
  },
  {
   "cell_type": "code",
   "execution_count": 14,
   "metadata": {},
   "outputs": [
    {
     "name": "stdout",
     "output_type": "stream",
     "text": [
      "\n",
      "\n",
      "\u001b[1m> Entering new AgentExecutor chain...\u001b[0m\n",
      "\u001b[32;1m\u001b[1;3mThought: To answer this question, I will search for \"Barak Obama.\"\n",
      "Action: Search\n",
      "Action Input: Barak Obama\n",
      "Observation:\u001b[0m\n",
      "Observation: \u001b[36;1m\u001b[1;3m[\"Speaker, Mr. Vice President, Members of Congress, my fellow Americans: Tonight marks the eighth year that I've come here to report on the State ...\", 'During a speech at Stanford University on Thursday, former U.S. President Barack Obama presented his audience with a stark choice: “Do we allow ...', 'The biography for President Obama and past presidents is courtesy of the White House Historical Association. Barack Obama served as the 44th President of ...', 'It was the spring of 2008 and Barack Obama was running for president. Many of us wondered if America was ready to elect an African-American ...', 'As his time in office comes to a close, President Obama will return to Chicago to deliver his Farewell Address on the evening of January 10, ...', 'Barack Obama, the 44th president, faced First Amendment issues on corporate campaign speech and religious rights during his presidency.', 'Before reading a brief autobiographical sharing taken from a “Back-to-school” speech, a highly ritualized monolog the US President addresses ...', 'Barack Hussein Obama II was born August 4, 1961, in Honolulu, Hawaii, to parents Barack H. Obama, Sr., and Stanley Ann Dunham. His parents divorced when he ...', 'In a recent interview with student reporter, Damon Weaver, President Obama announced that on September 8 -- the first day of school for many children across ...']\u001b[0m\n",
      "Thought:\u001b[32;1m\u001b[1;3mThought: From the search results, I can see that Barack Obama was the 44th President of the United States.\n",
      "Final Answer: Barack Hussein Obama II, commonly known as Barack Obama, was the 44th President of the United States. He was born on August 4, 1961, in Honolulu, Hawaii, to parents Barack H. Obama, Sr., and Stanley Ann Dunham.\u001b[0m\n",
      "\n",
      "\u001b[1m> Finished chain.\u001b[0m\n"
     ]
    },
    {
     "data": {
      "text/plain": [
       "{'result': 'Barack Hussein Obama II, commonly known as Barack Obama, was the 44th President of the United States. He was born on August 4, 1961, in Honolulu, Hawaii, to parents Barack H. Obama, Sr., and Stanley Ann Dunham.'}"
      ]
     },
     "execution_count": 14,
     "metadata": {},
     "output_type": "execute_result"
    }
   ],
   "source": [
    "search_query(\"who is barak obama?\")"
   ]
  },
  {
   "cell_type": "code",
   "execution_count": null,
   "metadata": {},
   "outputs": [],
   "source": []
  }
 ],
 "metadata": {
  "kernelspec": {
   "display_name": "Python 3",
   "language": "python",
   "name": "python3"
  },
  "language_info": {
   "codemirror_mode": {
    "name": "ipython",
    "version": 3
   },
   "file_extension": ".py",
   "mimetype": "text/x-python",
   "name": "python",
   "nbconvert_exporter": "python",
   "pygments_lexer": "ipython3",
   "version": "3.10.11"
  }
 },
 "nbformat": 4,
 "nbformat_minor": 2
}
